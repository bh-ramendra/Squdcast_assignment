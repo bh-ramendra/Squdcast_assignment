{
 "cells": [
  {
   "cell_type": "code",
   "execution_count": 35,
   "metadata": {},
   "outputs": [],
   "source": [
    "import pyodbc \n",
    "import pandas as pd\n",
    "import warnings\n",
    "warnings.filterwarnings('ignore')"
   ]
  },
  {
   "cell_type": "code",
   "execution_count": 36,
   "metadata": {},
   "outputs": [],
   "source": [
    "server = 'BHRAMENDRA\\SQLEXPRESS01'\n",
    "database = 'test_Squadcast'\n",
    "conn = pyodbc.connect('Driver={SQL Server};SERVER='+server+';DATABASE='+database+';Treusted_connection=yes;')\n",
    "conn.autocommit=True\n",
    "cursor = conn.cursor()"
   ]
  },
  {
   "cell_type": "code",
   "execution_count": 37,
   "metadata": {},
   "outputs": [],
   "source": [
    "df_movie = pd.read_sql(\"select * from [dbo].[movie]\",conn)\n",
    "df_rating = pd.read_sql(\"select * from [dbo].[rating]\",conn)\n"
   ]
  },
  {
   "cell_type": "code",
   "execution_count": 38,
   "metadata": {},
   "outputs": [
    {
     "data": {
      "text/html": [
       "<div>\n",
       "<style scoped>\n",
       "    .dataframe tbody tr th:only-of-type {\n",
       "        vertical-align: middle;\n",
       "    }\n",
       "\n",
       "    .dataframe tbody tr th {\n",
       "        vertical-align: top;\n",
       "    }\n",
       "\n",
       "    .dataframe thead th {\n",
       "        text-align: right;\n",
       "    }\n",
       "</style>\n",
       "<table border=\"1\" class=\"dataframe\">\n",
       "  <thead>\n",
       "    <tr style=\"text-align: right;\">\n",
       "      <th></th>\n",
       "      <th>id</th>\n",
       "      <th>title</th>\n",
       "      <th>year</th>\n",
       "      <th>country</th>\n",
       "      <th>genre</th>\n",
       "      <th>director</th>\n",
       "      <th>minutes</th>\n",
       "      <th>poster</th>\n",
       "    </tr>\n",
       "  </thead>\n",
       "  <tbody>\n",
       "    <tr>\n",
       "      <th>0</th>\n",
       "      <td>3112654</td>\n",
       "      <td>Mea culpa</td>\n",
       "      <td>2014</td>\n",
       "      <td>France</td>\n",
       "      <td>Action, Thriller</td>\n",
       "      <td>Fred Cavayé</td>\n",
       "      <td>90</td>\n",
       "      <td>http://ia.media-imdb.com/images/M/MV5BNTQ0ODAw...</td>\n",
       "    </tr>\n",
       "    <tr>\n",
       "      <th>1</th>\n",
       "      <td>1571222</td>\n",
       "      <td>A Dangerous Method</td>\n",
       "      <td>2011</td>\n",
       "      <td>UK, Germany, Canada, Switzerland</td>\n",
       "      <td>Biography, Drama, Thriller</td>\n",
       "      <td>David Cronenberg</td>\n",
       "      <td>99</td>\n",
       "      <td>http://ia.media-imdb.com/images/M/MV5BMTU5Mjk3...</td>\n",
       "    </tr>\n",
       "    <tr>\n",
       "      <th>2</th>\n",
       "      <td>2756032</td>\n",
       "      <td>The One I Love</td>\n",
       "      <td>2014</td>\n",
       "      <td>USA</td>\n",
       "      <td>Comedy, Drama, Romance</td>\n",
       "      <td>Charlie McDowell</td>\n",
       "      <td>91</td>\n",
       "      <td>http://ia.media-imdb.com/images/M/MV5BMTgzODMy...</td>\n",
       "    </tr>\n",
       "    <tr>\n",
       "      <th>3</th>\n",
       "      <td>2370248</td>\n",
       "      <td>Short Term 12</td>\n",
       "      <td>2013</td>\n",
       "      <td>USA</td>\n",
       "      <td>Drama</td>\n",
       "      <td>Destin Daniel Cretton</td>\n",
       "      <td>96</td>\n",
       "      <td>http://ia.media-imdb.com/images/M/MV5BMTEwNjE2...</td>\n",
       "    </tr>\n",
       "    <tr>\n",
       "      <th>4</th>\n",
       "      <td>57171</td>\n",
       "      <td>Yesterday, Today and Tomorrow</td>\n",
       "      <td>1963</td>\n",
       "      <td>Italy, France</td>\n",
       "      <td>Comedy, Romance</td>\n",
       "      <td>Vittorio De Sica</td>\n",
       "      <td>119</td>\n",
       "      <td>http://ia.media-imdb.com/images/M/MV5BMTY0NDc4...</td>\n",
       "    </tr>\n",
       "    <tr>\n",
       "      <th>5</th>\n",
       "      <td>1433540</td>\n",
       "      <td>A Town Called Panic</td>\n",
       "      <td>2009</td>\n",
       "      <td>Belgium, Luxembourg, France</td>\n",
       "      <td>Animation, Adventure, Comedy</td>\n",
       "      <td>Stéphane Aubier, Vincent Patar</td>\n",
       "      <td>75</td>\n",
       "      <td>http://ia.media-imdb.com/images/M/MV5BMjEyODIy...</td>\n",
       "    </tr>\n",
       "    <tr>\n",
       "      <th>6</th>\n",
       "      <td>1433811</td>\n",
       "      <td>Disconnect</td>\n",
       "      <td>2012</td>\n",
       "      <td>USA</td>\n",
       "      <td>Drama, Thriller</td>\n",
       "      <td>Henry Alex Rubin</td>\n",
       "      <td>115</td>\n",
       "      <td>http://ia.media-imdb.com/images/M/MV5BMjA2MTEz...</td>\n",
       "    </tr>\n",
       "    <tr>\n",
       "      <th>7</th>\n",
       "      <td>1608368</td>\n",
       "      <td>House Hunting</td>\n",
       "      <td>2013</td>\n",
       "      <td>USA</td>\n",
       "      <td>Horror, Mystery, Thriller</td>\n",
       "      <td>Eric Hurt</td>\n",
       "      <td>102</td>\n",
       "      <td>http://ia.media-imdb.com/images/M/MV5BNTI2NDcx...</td>\n",
       "    </tr>\n",
       "    <tr>\n",
       "      <th>8</th>\n",
       "      <td>1220634</td>\n",
       "      <td>Resident Evil: Afterlife</td>\n",
       "      <td>2010</td>\n",
       "      <td>Germany, France, USA, Canada</td>\n",
       "      <td>Action, Adventure, Horror</td>\n",
       "      <td>Paul W.S. Anderson</td>\n",
       "      <td>97</td>\n",
       "      <td>http://ia.media-imdb.com/images/M/MV5BMTkxNzM3...</td>\n",
       "    </tr>\n",
       "    <tr>\n",
       "      <th>9</th>\n",
       "      <td>858479</td>\n",
       "      <td>Smart People</td>\n",
       "      <td>2008</td>\n",
       "      <td>USA</td>\n",
       "      <td>Comedy, Drama, Romance</td>\n",
       "      <td>Noam Murro</td>\n",
       "      <td>95</td>\n",
       "      <td>http://ia.media-imdb.com/images/M/MV5BMTg1NTI3...</td>\n",
       "    </tr>\n",
       "  </tbody>\n",
       "</table>\n",
       "</div>"
      ],
      "text/plain": [
       "        id                          title  year  \\\n",
       "0  3112654                      Mea culpa  2014   \n",
       "1  1571222             A Dangerous Method  2011   \n",
       "2  2756032                 The One I Love  2014   \n",
       "3  2370248                  Short Term 12  2013   \n",
       "4    57171  Yesterday, Today and Tomorrow  1963   \n",
       "5  1433540            A Town Called Panic  2009   \n",
       "6  1433811                     Disconnect  2012   \n",
       "7  1608368                  House Hunting  2013   \n",
       "8  1220634       Resident Evil: Afterlife  2010   \n",
       "9   858479                   Smart People  2008   \n",
       "\n",
       "                            country                         genre  \\\n",
       "0                            France              Action, Thriller   \n",
       "1  UK, Germany, Canada, Switzerland    Biography, Drama, Thriller   \n",
       "2                               USA        Comedy, Drama, Romance   \n",
       "3                               USA                         Drama   \n",
       "4                     Italy, France               Comedy, Romance   \n",
       "5       Belgium, Luxembourg, France  Animation, Adventure, Comedy   \n",
       "6                               USA               Drama, Thriller   \n",
       "7                               USA     Horror, Mystery, Thriller   \n",
       "8      Germany, France, USA, Canada     Action, Adventure, Horror   \n",
       "9                               USA        Comedy, Drama, Romance   \n",
       "\n",
       "                         director  minutes  \\\n",
       "0                     Fred Cavayé       90   \n",
       "1                David Cronenberg       99   \n",
       "2                Charlie McDowell       91   \n",
       "3           Destin Daniel Cretton       96   \n",
       "4                Vittorio De Sica      119   \n",
       "5  Stéphane Aubier, Vincent Patar       75   \n",
       "6                Henry Alex Rubin      115   \n",
       "7                       Eric Hurt      102   \n",
       "8              Paul W.S. Anderson       97   \n",
       "9                      Noam Murro       95   \n",
       "\n",
       "                                              poster  \n",
       "0  http://ia.media-imdb.com/images/M/MV5BNTQ0ODAw...  \n",
       "1  http://ia.media-imdb.com/images/M/MV5BMTU5Mjk3...  \n",
       "2  http://ia.media-imdb.com/images/M/MV5BMTgzODMy...  \n",
       "3  http://ia.media-imdb.com/images/M/MV5BMTEwNjE2...  \n",
       "4  http://ia.media-imdb.com/images/M/MV5BMTY0NDc4...  \n",
       "5  http://ia.media-imdb.com/images/M/MV5BMjEyODIy...  \n",
       "6  http://ia.media-imdb.com/images/M/MV5BMjA2MTEz...  \n",
       "7  http://ia.media-imdb.com/images/M/MV5BNTI2NDcx...  \n",
       "8  http://ia.media-imdb.com/images/M/MV5BMTkxNzM3...  \n",
       "9  http://ia.media-imdb.com/images/M/MV5BMTg1NTI3...  "
      ]
     },
     "execution_count": 38,
     "metadata": {},
     "output_type": "execute_result"
    }
   ],
   "source": [
    "df_movie.head(10)"
   ]
  },
  {
   "cell_type": "code",
   "execution_count": 39,
   "metadata": {},
   "outputs": [
    {
     "data": {
      "text/html": [
       "<div>\n",
       "<style scoped>\n",
       "    .dataframe tbody tr th:only-of-type {\n",
       "        vertical-align: middle;\n",
       "    }\n",
       "\n",
       "    .dataframe tbody tr th {\n",
       "        vertical-align: top;\n",
       "    }\n",
       "\n",
       "    .dataframe thead th {\n",
       "        text-align: right;\n",
       "    }\n",
       "</style>\n",
       "<table border=\"1\" class=\"dataframe\">\n",
       "  <thead>\n",
       "    <tr style=\"text-align: right;\">\n",
       "      <th></th>\n",
       "      <th>rater_id</th>\n",
       "      <th>movie_id</th>\n",
       "      <th>rating</th>\n",
       "      <th>time</th>\n",
       "    </tr>\n",
       "  </thead>\n",
       "  <tbody>\n",
       "    <tr>\n",
       "      <th>0</th>\n",
       "      <td>1</td>\n",
       "      <td>68646</td>\n",
       "      <td>10</td>\n",
       "      <td>1381620027</td>\n",
       "    </tr>\n",
       "    <tr>\n",
       "      <th>1</th>\n",
       "      <td>1</td>\n",
       "      <td>113277</td>\n",
       "      <td>10</td>\n",
       "      <td>1379466669</td>\n",
       "    </tr>\n",
       "    <tr>\n",
       "      <th>2</th>\n",
       "      <td>2</td>\n",
       "      <td>422720</td>\n",
       "      <td>8</td>\n",
       "      <td>1412178746</td>\n",
       "    </tr>\n",
       "    <tr>\n",
       "      <th>3</th>\n",
       "      <td>2</td>\n",
       "      <td>454876</td>\n",
       "      <td>8</td>\n",
       "      <td>1394818630</td>\n",
       "    </tr>\n",
       "    <tr>\n",
       "      <th>4</th>\n",
       "      <td>2</td>\n",
       "      <td>790636</td>\n",
       "      <td>7</td>\n",
       "      <td>1389963947</td>\n",
       "    </tr>\n",
       "    <tr>\n",
       "      <th>5</th>\n",
       "      <td>2</td>\n",
       "      <td>816711</td>\n",
       "      <td>8</td>\n",
       "      <td>1379963769</td>\n",
       "    </tr>\n",
       "    <tr>\n",
       "      <th>6</th>\n",
       "      <td>2</td>\n",
       "      <td>1091191</td>\n",
       "      <td>7</td>\n",
       "      <td>1391173869</td>\n",
       "    </tr>\n",
       "    <tr>\n",
       "      <th>7</th>\n",
       "      <td>2</td>\n",
       "      <td>1103275</td>\n",
       "      <td>7</td>\n",
       "      <td>1408192129</td>\n",
       "    </tr>\n",
       "    <tr>\n",
       "      <th>8</th>\n",
       "      <td>2</td>\n",
       "      <td>1322269</td>\n",
       "      <td>7</td>\n",
       "      <td>1391529691</td>\n",
       "    </tr>\n",
       "    <tr>\n",
       "      <th>9</th>\n",
       "      <td>2</td>\n",
       "      <td>1433811</td>\n",
       "      <td>8</td>\n",
       "      <td>1380453043</td>\n",
       "    </tr>\n",
       "  </tbody>\n",
       "</table>\n",
       "</div>"
      ],
      "text/plain": [
       "   rater_id  movie_id  rating        time\n",
       "0         1     68646      10  1381620027\n",
       "1         1    113277      10  1379466669\n",
       "2         2    422720       8  1412178746\n",
       "3         2    454876       8  1394818630\n",
       "4         2    790636       7  1389963947\n",
       "5         2    816711       8  1379963769\n",
       "6         2   1091191       7  1391173869\n",
       "7         2   1103275       7  1408192129\n",
       "8         2   1322269       7  1391529691\n",
       "9         2   1433811       8  1380453043"
      ]
     },
     "execution_count": 39,
     "metadata": {},
     "output_type": "execute_result"
    }
   ],
   "source": [
    "df_rating.head(10)"
   ]
  },
  {
   "cell_type": "code",
   "execution_count": 41,
   "metadata": {},
   "outputs": [],
   "source": [
    "# Merge the two DataFrames on the 'movie_id' column\n",
    "merged_df = pd.merge(df_movie, df_rating, left_on='id', right_on='movie_id')"
   ]
  },
  {
   "cell_type": "code",
   "execution_count": 40,
   "metadata": {},
   "outputs": [],
   "source": [
    "# Que a : Top 5 Movie Titles: Sort and print the top 5 movie titles based on the following criteria:\n",
    "# ● Duration\n",
    "# ● Year of Release\n",
    "# ● Average rating (consider movies with minimum 5 ratings)\n",
    "# ● Number of ratings given"
   ]
  },
  {
   "cell_type": "code",
   "execution_count": 42,
   "metadata": {},
   "outputs": [
    {
     "name": "stdout",
     "output_type": "stream",
     "text": [
      "                                              minutes  year    rating      \n",
      "                                                first first      mean count\n",
      "title                                                                      \n",
      "The Godfather: Part II                            202  1974  9.800000     5\n",
      "The Lord of the Rings: The Return of the King     201  2003  9.600000     5\n",
      "Schindler's List                                  195  1993  8.333333     6\n",
      "The Green Mile                                    189  1999  9.000000     9\n",
      "The Wolf of Wall Street                           180  2013  8.376812    69\n"
     ]
    }
   ],
   "source": [
    "\n",
    "\n",
    "# Calculate average rating and number of ratings for each movie\n",
    "movie_stats = merged_df.groupby('title').agg({'minutes': 'first', 'year': 'first', 'rating': ['mean', 'count']})\n",
    "\n",
    "# Filter movies with at least 5 ratings\n",
    "movie_stats = movie_stats[movie_stats['rating']['count'] >= 5]\n",
    "\n",
    "# Sort by duration, year, average rating, and number of ratings\n",
    "sorted_movies = movie_stats.sort_values(by=[('minutes', 'first'), ('year', 'first'), ('rating', 'mean'), ('rating', 'count')], ascending=[False, True, False, False])\n",
    "\n",
    "# Print the top 5 movie titles\n",
    "top_5_movies = sorted_movies.head(5)\n",
    "print(top_5_movies)\n"
   ]
  },
  {
   "cell_type": "code",
   "execution_count": 43,
   "metadata": {},
   "outputs": [],
   "source": [
    "# Que b : Number of Unique Raters: Determine and print the count of unique rater IDs."
   ]
  },
  {
   "cell_type": "code",
   "execution_count": 44,
   "metadata": {},
   "outputs": [
    {
     "name": "stdout",
     "output_type": "stream",
     "text": [
      "Number of Unique Raters: 1048\n"
     ]
    }
   ],
   "source": [
    "unique_raters_count = df_rating['rater_id'].nunique()\n",
    "\n",
    "print(f\"Number of Unique Raters: {unique_raters_count}\")"
   ]
  },
  {
   "cell_type": "code",
   "execution_count": 45,
   "metadata": {},
   "outputs": [],
   "source": [
    "# Que c: Top 5 Rater IDs: Sort and print the top 5 rater IDs based on:\n",
    "#     ● Most movies rated\n",
    "#     ● Highest Average rating given (consider raters with min 5 ratings)"
   ]
  },
  {
   "cell_type": "code",
   "execution_count": 46,
   "metadata": {},
   "outputs": [
    {
     "name": "stdout",
     "output_type": "stream",
     "text": [
      "         movie_id    rating      \n",
      "            count      mean count\n",
      "rater_id                         \n",
      "735           314  6.907643   314\n",
      "769           209  7.220096   209\n",
      "512           188  7.484043   188\n",
      "800           186  7.569892   186\n",
      "82            159  6.459119   159\n"
     ]
    }
   ],
   "source": [
    "# Calculate the number of ratings and average rating for each rater\n",
    "rater_stats = df_rating.groupby('rater_id').agg({'movie_id': 'count', 'rating': ['mean', 'count']})\n",
    "\n",
    "# Filter raters with at least 5 ratings\n",
    "rater_stats = rater_stats[rater_stats['rating']['count'] >= 5]\n",
    "\n",
    "# Sort by most movies rated and highest average rating\n",
    "sorted_raters = rater_stats.sort_values(by=[('movie_id', 'count'), ('rating', 'mean')], ascending=[False, False])\n",
    "\n",
    "# Print the top 5 rater IDs\n",
    "top_5_raters = sorted_raters.head(5)\n",
    "print(top_5_raters)\n"
   ]
  },
  {
   "cell_type": "code",
   "execution_count": 47,
   "metadata": {},
   "outputs": [],
   "source": [
    "# Que d : Top Rated Movie:\n",
    "# - Find and print the top-rated movies by:\n",
    "# ● Director 'Michael Bay',\n",
    "# ● 'Comedy',\n",
    "# ● In the year 2013\n",
    "# ● In India (consider movies with a minimum of 5 ratings)."
   ]
  },
  {
   "cell_type": "code",
   "execution_count": 48,
   "metadata": {},
   "outputs": [
    {
     "name": "stdout",
     "output_type": "stream",
     "text": [
      "Series([], Name: rating, dtype: float64)\n"
     ]
    }
   ],
   "source": [
    "\n",
    "# Filter movies directed by 'Michael Bay', 'Comedy' genre, in the year 2013, and in India\n",
    "filtered_movies = merged_df[\n",
    "    (merged_df['director'] == 'Michael Bay') &\n",
    "    (merged_df['genre'].str.contains('Comedy', case=False)) &\n",
    "    (merged_df['year'] == 2013) &\n",
    "    (merged_df['country'] == 'India') &\n",
    "    (merged_df['rating'] >= 5)  # Consider movies with at least 5 ratings\n",
    "]\n",
    "\n",
    "# Group by movie title and calculate average rating\n",
    "top_rated_movies = filtered_movies.groupby('title')['rating'].mean()\n",
    "\n",
    "# Sort in descending order to get the top-rated movies\n",
    "top_rated_movies = top_rated_movies.sort_values(ascending=False)\n",
    "\n",
    "# Print the top-rated movies\n",
    "print(top_rated_movies.head())\n"
   ]
  },
  {
   "cell_type": "code",
   "execution_count": 56,
   "metadata": {},
   "outputs": [],
   "source": [
    "# Que e : Favorite Movie Genre of Rater ID 1040: Determine and print the favorite movie genre\n",
    "# for the rater with ID 1040 (defined as the genre of the movie the rater has rated most often).\n"
   ]
  },
  {
   "cell_type": "code",
   "execution_count": 49,
   "metadata": {},
   "outputs": [
    {
     "name": "stdout",
     "output_type": "stream",
     "text": [
      "Favorite Movie Genre of Rater ID 1040: Action, Adventure, Sci-Fi\n"
     ]
    }
   ],
   "source": [
    "# Filter ratings by rater ID 1040\n",
    "ratings_by_rater_1040 = merged_df[merged_df['rater_id'] == 1040]\n",
    "\n",
    "# Count the occurrences of each genre\n",
    "genre_counts = ratings_by_rater_1040['genre'].value_counts()\n",
    "\n",
    "# Determine the favorite genre (genre with the highest count)\n",
    "favorite_genre = genre_counts.idxmax()\n",
    "\n",
    "# Print the favorite genre\n",
    "print(f\"Favorite Movie Genre of Rater ID 1040: {favorite_genre}\")\n"
   ]
  },
  {
   "cell_type": "code",
   "execution_count": 54,
   "metadata": {},
   "outputs": [],
   "source": [
    "# Que f :  Highest Average Rating for a Movie Genre by Rater ID 1040: Find and print the\n",
    "# highest average rating for a movie genre given by the rater with ID 1040 (consider genres with a\n",
    "# minimum of 5 ratings).\n"
   ]
  },
  {
   "cell_type": "code",
   "execution_count": 50,
   "metadata": {},
   "outputs": [
    {
     "name": "stdout",
     "output_type": "stream",
     "text": [
      "Highest Average Rating for a Movie Genre by Rater ID 1040: Action, Adventure, Sci-Fi with rating 8.454545454545455\n"
     ]
    }
   ],
   "source": [
    "# Filter ratings by rater ID 1040\n",
    "ratings_by_rater_1040 = merged_df[merged_df['rater_id'] == 1040]\n",
    "\n",
    "# Group by genre and calculate average rating\n",
    "genre_avg_ratings = ratings_by_rater_1040.groupby('genre')['rating'].agg(['mean', 'count'])\n",
    "\n",
    "# Filter genres with at least 5 ratings\n",
    "genre_avg_ratings = genre_avg_ratings[genre_avg_ratings['count'] >= 5]\n",
    "\n",
    "# Find the genre with the highest average rating\n",
    "highest_rated_genre = genre_avg_ratings['mean'].idxmax()\n",
    "\n",
    "# Print the highest average rating and corresponding genre\n",
    "print(f\"Highest Average Rating for a Movie Genre by Rater ID 1040: {highest_rated_genre} with rating {genre_avg_ratings.loc[highest_rated_genre, 'mean']}\")\n"
   ]
  },
  {
   "cell_type": "code",
   "execution_count": 55,
   "metadata": {},
   "outputs": [],
   "source": [
    "# Que g :  Year with Second-Highest Number of Action Movies: Identify and print the year with\n",
    "# the second-highest number of action movies from the USA that received an average rating of\n",
    "# 6.5 or higher and had a runtime of less than 120 minutes."
   ]
  },
  {
   "cell_type": "code",
   "execution_count": 51,
   "metadata": {},
   "outputs": [
    {
     "name": "stdout",
     "output_type": "stream",
     "text": [
      "Year with Second-Highest Number of Action Movies: 2014\n"
     ]
    }
   ],
   "source": [
    "# Filter action movies from the USA with average rating >= 6.5 and runtime < 120 minutes\n",
    "filtered_movies = merged_df[\n",
    "    (merged_df['genre'].str.contains('Action', case=False)) &\n",
    "    (merged_df['country'] == 'USA') &\n",
    "    (merged_df['rating'] >= 6.5) &\n",
    "    (merged_df['minutes'] < 120)\n",
    "]\n",
    "\n",
    "# Group by year and count the number of movies\n",
    "yearly_counts = filtered_movies.groupby('year').size()\n",
    "\n",
    "# Identify the year with the second-highest number of action movies\n",
    "second_highest_year = yearly_counts.nlargest(2).idxmin()\n",
    "\n",
    "# Print the result\n",
    "print(f\"Year with Second-Highest Number of Action Movies: {second_highest_year}\")\n"
   ]
  },
  {
   "cell_type": "code",
   "execution_count": 52,
   "metadata": {},
   "outputs": [],
   "source": [
    "# Que h : Count of Movies with High Ratings: Count and print the number of movies that have\n",
    "# received at least five reviews with a rating of 7 or higher.\n"
   ]
  },
  {
   "cell_type": "code",
   "execution_count": 53,
   "metadata": {},
   "outputs": [
    {
     "name": "stdout",
     "output_type": "stream",
     "text": [
      "Count of Movies with High Ratings (at least five reviews with a rating of 7 or higher): 338\n"
     ]
    }
   ],
   "source": [
    "# Filter movies with at least five reviews and a rating of 7 or higher\n",
    "high_rated_movies = df_rating[df_rating['rating'] >= 7].groupby('movie_id').size() >= 5\n",
    "\n",
    "# Count the number of movies meeting the criteria\n",
    "num_high_rated_movies = high_rated_movies.sum()\n",
    "\n",
    "# Print the result\n",
    "print(f\"Count of Movies with High Ratings (at least five reviews with a rating of 7 or higher): {num_high_rated_movies}\")\n"
   ]
  },
  {
   "cell_type": "code",
   "execution_count": null,
   "metadata": {},
   "outputs": [],
   "source": []
  }
 ],
 "metadata": {
  "kernelspec": {
   "display_name": "test",
   "language": "python",
   "name": "python3"
  },
  "language_info": {
   "codemirror_mode": {
    "name": "ipython",
    "version": 3
   },
   "file_extension": ".py",
   "mimetype": "text/x-python",
   "name": "python",
   "nbconvert_exporter": "python",
   "pygments_lexer": "ipython3",
   "version": "3.8.10"
  },
  "orig_nbformat": 4
 },
 "nbformat": 4,
 "nbformat_minor": 2
}
